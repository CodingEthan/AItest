{
 "cells": [
  {
   "cell_type": "code",
   "execution_count": 3,
   "metadata": {},
   "outputs": [
    {
     "name": "stdout",
     "output_type": "stream",
     "text": [
      "{\"remain\":6,\"success\":2,\"not_same_site\":[\"https://www.wengegroup.com/aboutnew/index.html\"]}\n"
     ]
    }
   ],
   "source": [
    "# 导入requests库\n",
    "import requests\n",
    "\n",
    "# 定义要提交的url列表，每个url占一行\n",
    "urls = [\n",
    "    \"https://yayi.wenge.com/#/login\",\n",
    "    \"https://www.wengegroup.com/aboutnew/index.html\",\n",
    "    \"https://yayi.wenge.com/maas/#/HeaderNav/home\"\n",
    "]\n",
    "\n",
    "# 定义API推送的接口地址，替换site和token为自己的\n",
    "api = \"http://data.zz.baidu.com/urls?site=https://yayi.wenge.com&token=TtFDxdyGGmEW50j4\"\n",
    "\n",
    "# 定义请求头，指定内容类型为文本\n",
    "headers = {\"Content-Type\": \"text/plain\"}\n",
    "\n",
    "# 发送post请求，将url列表作为请求体，获取响应结果\n",
    "response = requests.post(api, data=\"\\n\".join(urls), headers=headers)\n",
    "\n",
    "# 打印响应结果，查看推送反馈\n",
    "print(response.text)\n"
   ]
  }
 ],
 "metadata": {
  "kernelspec": {
   "display_name": "base",
   "language": "python",
   "name": "python3"
  },
  "language_info": {
   "codemirror_mode": {
    "name": "ipython",
    "version": 3
   },
   "file_extension": ".py",
   "mimetype": "text/x-python",
   "name": "python",
   "nbconvert_exporter": "python",
   "pygments_lexer": "ipython3",
   "version": "3.11.3"
  }
 },
 "nbformat": 4,
 "nbformat_minor": 2
}
