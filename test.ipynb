{
 "cells": [
  {
   "cell_type": "code",
   "execution_count": 3,
   "metadata": {},
   "outputs": [],
   "source": [
    "import turtle\n",
    "\n",
    "# 创建一个新的turtle对象  \n",
    "t = turtle.Turtle()  \n",
    "  \n",
    "# 设置画笔颜色  \n",
    "t.color(\"red\", \"pink\")  \n",
    "  \n",
    "# 绘制爱心  \n",
    "t.begin_fill()  \n",
    "t.left(45)  \n",
    "t.forward(120)  \n",
    "t.circle(60, 180)  \n",
    "t.right(90)  \n",
    "t.circle(60, 180)  \n",
    "t.forward(120)  \n",
    "t.end_fill()  \n",
    "  \n",
    "# 隐藏turtle对象  \n",
    "t.hideturtle()  \n",
    "  \n",
    "# 显示绘图窗口  \n",
    "turtle.done()"
   ]
  },
  {
   "cell_type": "code",
   "execution_count": 3,
   "metadata": {},
   "outputs": [
    {
     "name": "stdout",
     "output_type": "stream",
     "text": [
      "True\n"
     ]
    }
   ],
   "source": [
    "import requests  \n",
    "  \n",
    "def check_redirects(url1, url2):  \n",
    "    response1 = requests.head(url1)  \n",
    "    response2 = requests.head(url2)  \n",
    "  \n",
    "    if response1.headers.get('location') == response2.headers.get('location'):  \n",
    "        return True  \n",
    "    else:  \n",
    "        return False  \n",
    "  \n",
    "url1 = \"https://www.iesdouyin.com/share/video/7271955053227871549/?mid=7161121280833488904\" \n",
    "url2 = \"https://www.douyin.com/video/7271955053227871549\"\n",
    "  \n",
    "print(check_redirects(url1, url2))  # 如果都重定向到同一页面，输出True，否则输出False"
   ]
  },
  {
   "cell_type": "code",
   "execution_count": 11,
   "metadata": {},
   "outputs": [
    {
     "name": "stdout",
     "output_type": "stream",
     "text": [
      "https://www.iesdouyin.com/share/video/7271955053227871549/?mid=7161121280833488904\n"
     ]
    }
   ],
   "source": [
    "url1 = \"https://www.douyin.com/video/7271955053227871549\"\n",
    "url1 = \"https://www.iesdouyin.com/share/video/7271955053227871549/?mid=7161121280833488904\" \n",
    "\n",
    "response1 = requests.head(url1)  \n",
    "final_url1 = response1.url\n",
    "print(final_url1)"
   ]
  },
  {
   "cell_type": "code",
   "execution_count": 4,
   "metadata": {},
   "outputs": [
    {
     "name": "stdout",
     "output_type": "stream",
     "text": [
      "[]\n"
     ]
    },
    {
     "data": {
      "text/plain": [
       "True"
      ]
     },
     "execution_count": 4,
     "metadata": {},
     "output_type": "execute_result"
    }
   ],
   "source": [
    "import requests\n",
    "\n",
    "def is_redirected(url1, url2):\n",
    "    response1 = requests.get(url1)\n",
    "    response2 = requests.get(url2)\n",
    "\n",
    "    if response1.history == response2.history:\n",
    "        print(response1.history)\n",
    "        return True\n",
    "    else:\n",
    "        return False\n",
    "\n",
    "url1 = \"https://www.douyin.com/video/7271955053227871549\"\n",
    "url2 = \"https://www.iesdouyin.com/share/video/7271955053227871549/?mid=7161121280833488904\" \n",
    "is_redirected(url1, url2)"
   ]
  },
  {
   "cell_type": "code",
   "execution_count": 6,
   "metadata": {},
   "outputs": [
    {
     "name": "stdout",
     "output_type": "stream",
     "text": [
      "这两个URL导向不同的URL。\n"
     ]
    }
   ],
   "source": [
    "import requests\n",
    "\n",
    "# 定义两个要比较的URL\n",
    "url1 = \"https://www.douyin.com/video/7271955053227871549\"\n",
    "url2 = \"http://www.douyin.com/share/video/7271955053227871549/?mid=7161121280833488904\" \n",
    "# 发送HTTP请求获取最终目标URL\n",
    "def get_final_url(url):\n",
    "    response = requests.head(url, allow_redirects=True)\n",
    "    return response.url\n",
    "\n",
    "# 获取两个URL的最终目标URL\n",
    "final_url1 = get_final_url(url1)\n",
    "final_url2 = get_final_url(url2)\n",
    "\n",
    "# 判断两个最终目标URL是否相同\n",
    "if final_url1 == final_url2:\n",
    "    print(\"这两个URL导向相同的URL:\", final_url1)\n",
    "else:\n",
    "    print(\"这两个URL导向不同的URL。\")\n"
   ]
  },
  {
   "cell_type": "code",
   "execution_count": 7,
   "metadata": {},
   "outputs": [
    {
     "name": "stdout",
     "output_type": "stream",
     "text": [
      "这两个URL导向不同的页面。\n"
     ]
    }
   ],
   "source": [
    "import requests\n",
    "from bs4 import BeautifulSoup\n",
    "\n",
    "# 定义两个要比较的URL\n",
    "url1 = \"https://www.douyin.com/video/7271955053227871549\"\n",
    "url2 = \"http://www.douyin.com/share/video/7271955053227871549/?mid=7161121280833488904\"\n",
    "\n",
    "# 获取两个URL的页面内容\n",
    "def get_page_content(url):\n",
    "    response = requests.get(url)\n",
    "    return response.text\n",
    "\n",
    "# 使用Beautiful Soup解析页面内容\n",
    "def parse_page_content(content):\n",
    "    soup = BeautifulSoup(content, 'html.parser')\n",
    "    # 在这里可以根据页面结构提取需要比较的信息\n",
    "    return soup\n",
    "\n",
    "# 获取两个URL的页面内容\n",
    "content1 = get_page_content(url1)\n",
    "content2 = get_page_content(url2)\n",
    "\n",
    "# 解析页面内容\n",
    "parsed_content1 = parse_page_content(content1)\n",
    "parsed_content2 = parse_page_content(content2)\n",
    "\n",
    "# 比较两个页面内容是否相同\n",
    "if parsed_content1 == parsed_content2:\n",
    "    print(\"这两个URL导向相同的页面。\")\n",
    "else:\n",
    "    print(\"这两个URL导向不同的页面。\")\n"
   ]
  },
  {
   "cell_type": "markdown",
   "metadata": {},
   "source": [
    "## 下面的代码是正确的"
   ]
  },
  {
   "cell_type": "code",
   "execution_count": 1,
   "metadata": {},
   "outputs": [
    {
     "name": "stdout",
     "output_type": "stream",
     "text": [
      "这两个URL导向相同的页面。\n"
     ]
    }
   ],
   "source": [
    "from selenium import webdriver\n",
    "from selenium.webdriver.chrome.options import Options\n",
    "\n",
    "# 定义两个要比较的URL\n",
    "url1 = \"https://www.douyin.com/video/7271955053227871549\"\n",
    "url2 = \"https://www.iesdouyin.com/share/video/7271955053227871549/?mid=7161121280833488904\"  \n",
    "\n",
    "# 创建Chrome WebDriver实例并设置为无头模式\n",
    "chrome_options = Options()\n",
    "chrome_options.add_argument(\"--headless\")  # 启用无头模式\n",
    "driver = webdriver.Chrome(options=chrome_options)  # 请确保已经安装了Chrome WebDriver，并提供正确的路径\n",
    "\n",
    "# 打开第一个URL\n",
    "driver.get(url1)\n",
    "\n",
    "# 获取第一个URL导致的页面的源代码\n",
    "content1 = driver.current_url\n",
    "\n",
    "# 打开第二个URL\n",
    "driver.get(url2)\n",
    "\n",
    "# 获取第二个URL导致的页面的源代码\n",
    "content2 = driver.current_url\n",
    "\n",
    "# 关闭WebDriver\n",
    "driver.quit()\n",
    "\n",
    "# 比较两个页面内容是否相同\n",
    "if content1 == content2:\n",
    "    print(\"这两个URL导向相同的页面。\")\n",
    "else:\n",
    "    print(\"这两个URL导向不同的页面。\")\n"
   ]
  },
  {
   "cell_type": "code",
   "execution_count": null,
   "metadata": {},
   "outputs": [],
   "source": [
    "from selenium import webdriver\n",
    "from selenium.webdriver.chrome.options import Options\n",
    "\n",
    "# 创建Chrome WebDriver实例并设置为无头模式\n",
    "chrome_options = Options()\n",
    "chrome_options.add_argument(\"--headless\")  # 启用无头模式\n",
    "driver = webdriver.Chrome(options=chrome_options)  # 请确保已经安装了Chrome WebDriver，并提供正确的路径\n",
    "\n",
    "# 打开网页\n",
    "driver.get(\"https://www.example.com\")  # 请替换为你要获取URL的网页地址\n",
    "\n",
    "# 获取当前页面的URL\n",
    "current_url = driver.current_url\n",
    "\n",
    "# 输出当前页面的URL\n",
    "print(\"当前页面的URL是:\", current_url)\n",
    "\n",
    "# 关闭WebDriver\n",
    "driver.quit()\n"
   ]
  },
  {
   "cell_type": "code",
   "execution_count": 2,
   "metadata": {},
   "outputs": [
    {
     "data": {
      "text/plain": [
       "'https://www.douyin.com/video/7271955053227871549'"
      ]
     },
     "execution_count": 2,
     "metadata": {},
     "output_type": "execute_result"
    }
   ],
   "source": [
    "from selenium import webdriver\n",
    "from selenium.webdriver.chrome.options import Options\n",
    "# 定义两个要比较的URL\n",
    "url1 = \"https://www.douyin.com/video/7271955053227871549\"\n",
    "url2 = \"https://www.iesdouyin.com/share/video/7271955053227871549/?mid=7161121280833488904\"  \n",
    "\n",
    "# 创建Chrome WebDriver实例并设置为无头模式\n",
    "chrome_options = Options()\n",
    "chrome_options.add_argument(\"--headless\")  # 启用无头模式\n",
    "driver = webdriver.Chrome(options=chrome_options)  # 请确保已经安装了Chrome WebDriver，并提供正确的路径\n",
    "\n",
    "# 打开第一个URL\n",
    "driver.get(url1)\n",
    "\n",
    "# 获取第一个URL导致的页面的源代码\n",
    "content1 = driver.current_url\n",
    "\n",
    "# 关闭WebDriver\n",
    "driver.quit()\n",
    "content1"
   ]
  },
  {
   "cell_type": "code",
   "execution_count": 3,
   "metadata": {},
   "outputs": [
    {
     "name": "stdout",
     "output_type": "stream",
     "text": [
      "当前文件夹路径: c:\\Users\\WYJ20\\OneDrive\\桌面\\wenge实习\\批量处理\n"
     ]
    }
   ],
   "source": [
    "def deal_url(url,path):\n",
    "    import pandas as pd \n",
    "    from selenium import webdriver\n",
    "    from selenium.webdriver.chrome.options import Options\n",
    "\n",
    "    # 创建Chrome WebDriver实例并设置为无头模式\n",
    "    chrome_options = Options()\n",
    "    chrome_options.add_argument(\"--headless\")  # 启用无头模式\n",
    "    driver = webdriver.Chrome(options=chrome_options)  # 请确保已经安装了Chrome WebDriver，并提供正确的路径\n",
    "\n",
    "    df0 = pd.read_excel(path)\n",
    "    for i, row in df0.iterrows():\n",
    "        # 打开第一个URL\n",
    "        driver.get(row[url])\n",
    "        # 获取第一个URL导致的页面的源代码\n",
    "        new_url = driver.current_url\n",
    "        # 关闭WebDriver\n",
    "        driver.quit()\n",
    "        df0.at[i, url] = new_url\n",
    "    return df0\n",
    "\n",
    "import os\n",
    "\n",
    "# 定义两个要比较的URL\n",
    "url1 = \"https://www.douyin.com/video/7271955053227871549\"\n",
    "url2 = \"https://www.iesdouyin.com/share/video/7271955053227871549/?mid=7161121280833488904\"  \n",
    "url3 = \"https://weibo.com/7821043084/NgzzdrccH\"\n",
    "\n",
    "\n",
    "\n",
    "current_directory = os.getcwd()\n",
    "for filepath,_,filenames in os.walk(current_directory):\n",
    "    for filename in filenames:\n",
    "        path = os.path.join(filepath,filename)\n",
    "        URL0 = filename.split('.')[0]\n",
    "        index0 = filename.split('.')[1]\n",
    "        format0 = filename.split('.')[-1]\n",
    "        if format0 == 'XLXS':\n",
    "            df1 = deal_url(URL0,path)\n",
    "            df1.to_excel(URL0 + index0 + '_new.xlsx',index=False)"
   ]
  },
  {
   "cell_type": "code",
   "execution_count": null,
   "metadata": {},
   "outputs": [],
   "source": [
    "import re\n",
    "\n",
    "def handle(df, url=\"URL\"):\n",
    "    pattern = r\"/\\d{18}\"  # 使用正则表达式模式来匹配18位数字的格式\n",
    "\n",
    "    for i, row in df.iterrows():\n",
    "        text = str(row[url])\n",
    "        text_dealed = re.search(pattern, text)\n",
    "        \n",
    "        if text_dealed:\n",
    "            df.at[i, url] = text_dealed.group()\n",
    "        else:\n",
    "            print(\"Error: 提供的URL数据有问题\")\n",
    "    \n",
    "    return df"
   ]
  },
  {
   "cell_type": "code",
   "execution_count": 3,
   "metadata": {},
   "outputs": [
    {
     "data": {
      "image/png": "[encoded data removed]",
      "text/plain": [
       "<Figure size 640x480 with 1 Axes>"
      ]
     },
     "metadata": {},
     "output_type": "display_data"
    }
   ],
   "source": [
    "import matplotlib.pyplot as plt\n",
    "import numpy as np\n",
    "\n",
    "def draw_heart(x, y):\n",
    "    t = np.linspace(0, 2 * np.pi, 100)\n",
    "    x = 16 * np.sin(t) ** 3\n",
    "    y = 13 * np.cos(t) - 5 * np.cos(2 * t) - 2\n",
    "    plt.plot(x, y)\n",
    "\n",
    "if __name__ == \"__main__\":\n",
    "    draw_heart(0, 0)\n",
    "    plt.show()\n"
   ]
  },
  {
   "cell_type": "code",
   "execution_count": 1,
   "metadata": {},
   "outputs": [
    {
     "data": {
      "text/plain": [
       "'Wed, 18 Oct 2023 06:48:00 GMT'"
      ]
     },
     "execution_count": 1,
     "metadata": {},
     "output_type": "execute_result"
    }
   ],
   "source": [
    "# 导入email库中的formatdate函数\n",
    "from email.utils import formatdate\n",
    "formatdate(usegmt=True)"
   ]
  },
  {
   "cell_type": "code",
   "execution_count": null,
   "metadata": {},
   "outputs": [],
   "source": []
  }
 ],
 "metadata": {
  "kernelspec": {
   "display_name": "base",
   "language": "python",
   "name": "python3"
  },
  "language_info": {
   "codemirror_mode": {
    "name": "ipython",
    "version": 3
   },
   "file_extension": ".py",
   "mimetype": "text/x-python",
   "name": "python",
   "nbconvert_exporter": "python",
   "pygments_lexer": "ipython3",
   "version": "3.11.3"
  },
  "orig_nbformat": 4
 },
 "nbformat": 4,
 "nbformat_minor": 2
}
