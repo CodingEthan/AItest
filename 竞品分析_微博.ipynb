{
 "cells": [
  {
   "cell_type": "code",
   "execution_count": 1,
   "metadata": {},
   "outputs": [],
   "source": [
    "import pandas as pd\n",
    "\n",
    "def compare_dataframes(df_host, df_guest, df_host_url=\"URL\", df_guest_url=\"URL\"):\n",
    "    same = []\n",
    "    more_result = []\n",
    "    \n",
    "    guest_url_set = set(df_guest[df_guest_url])\n",
    "    \n",
    "    for _, row in df_host.iterrows():\n",
    "        host_url = row[df_host_url]\n",
    "        \n",
    "        if host_url in guest_url_set:\n",
    "            row[\"tag\"] = \"same\"\n",
    "            same.append(row.rename(index={\"查看原文\": \"URL\"}))\n",
    "        else:       \n",
    "            list_to_append = row.copy()\n",
    "            list_to_append[\"tag\"] = \"yuqing\" if df_host_url == \"URL\" else \"wenge\"\n",
    "            more_result.append(list_to_append.rename(index={\"查看原文\": \"URL\"}))\n",
    "    \n",
    "    return pd.DataFrame(same), pd.DataFrame(more_result)\n"
   ]
  },
  {
   "cell_type": "code",
   "execution_count": 2,
   "metadata": {},
   "outputs": [
    {
     "name": "stderr",
     "output_type": "stream",
     "text": [
      "d:\\App\\Anaconda\\Lib\\site-packages\\openpyxl\\styles\\stylesheet.py:226: UserWarning: Workbook contains no default style, apply openpyxl's default\n",
      "  warn(\"Workbook contains no default style, apply openpyxl's default\")\n",
      "d:\\App\\Anaconda\\Lib\\site-packages\\openpyxl\\styles\\stylesheet.py:226: UserWarning: Workbook contains no default style, apply openpyxl's default\n",
      "  warn(\"Workbook contains no default style, apply openpyxl's default\")\n",
      "d:\\App\\Anaconda\\Lib\\site-packages\\openpyxl\\styles\\stylesheet.py:226: UserWarning: Workbook contains no default style, apply openpyxl's default\n",
      "  warn(\"Workbook contains no default style, apply openpyxl's default\")\n",
      "d:\\App\\Anaconda\\Lib\\site-packages\\openpyxl\\styles\\stylesheet.py:226: UserWarning: Workbook contains no default style, apply openpyxl's default\n",
      "  warn(\"Workbook contains no default style, apply openpyxl's default\")\n",
      "d:\\App\\Anaconda\\Lib\\site-packages\\openpyxl\\styles\\stylesheet.py:226: UserWarning: Workbook contains no default style, apply openpyxl's default\n",
      "  warn(\"Workbook contains no default style, apply openpyxl's default\")\n"
     ]
    }
   ],
   "source": [
    "import os\n",
    "import re\n",
    "import pandas as pd\n",
    "\n",
    "\n",
    "def extract_numbers_from_filename(filename):\n",
    "    num_match = re.search(r'\\d+', filename)\n",
    "    return int(num_match.group()) if num_match else None\n",
    "\n",
    "def duibi_dealer(host = \"wenge\", guest  =\"yuqing\", root_folder = r\"C:\\Users\\WYJ20\\OneDrive\\桌面\\wenge实习\\excel处理\\need_deal\",result_folder = r\"C:\\Users\\WYJ20\\OneDrive\\桌面\\wenge实习\\excel处理\\results\"):\n",
    "    for filepath, _, filenames in os.walk(root_folder):\n",
    "        filenames = [filename for filename in filenames if filename.startswith((host,guest))]\n",
    "        list_path = [[None, None] for _ in range(len(filenames) // 2)]\n",
    "\n",
    "        for filename in filenames:\n",
    "            path = os.path.join(filepath, filename)\n",
    "            num = extract_numbers_from_filename(filename)\n",
    "            if num is not None:\n",
    "                list_path[num][0 if filename.startswith(host) else 1] = path\n",
    "\n",
    "        for i, (wenge_path, yuqing_path) in enumerate(list_path):\n",
    "            df_wenge = pd.read_excel(wenge_path)\n",
    "            df_yuqing = pd.read_excel(yuqing_path)\n",
    "\n",
    "            same, yuqing_more = compare_dataframes(df_yuqing, df_wenge, df_guest_url=\"查看原文\")\n",
    "            _, wenge_more = compare_dataframes(df_wenge, df_yuqing, df_host_url=\"查看原文\")\n",
    "\n",
    "            final_df = pd.concat([same, yuqing_more, wenge_more], axis=0)\n",
    "            result_path = os.path.join(result_folder, f\"result{i}.xlsx\")\n",
    "            final_df.to_excel(result_path, engine='openpyxl')\n",
    "\n",
    "duibi_dealer()"
   ]
  },
  {
   "cell_type": "code",
   "execution_count": null,
   "metadata": {},
   "outputs": [],
   "source": [
    "df_ocr = pd.read_excel(wenge_path)\n",
    "df_not_ocr = pd.read_excel(yuqing_path)\n",
    "same = []\n",
    "more_result = []\n",
    "\n",
    "guest_url_set = set(df_not_ocr[\"URL\"])\n",
    "\n",
    "for _, row in df_ocr.iterrows():\n",
    "    host_url = row[\"URL\"]\n",
    "    \n",
    "    if host_url in guest_url_set:\n",
    "        row[\"tag\"] = \"same\"\n",
    "        same.append(row.rename(index={\"查看原文\": \"URL\"}))\n",
    "    else:\n",
    "        list_to_append = row.copy()\n",
    "        list_to_append[\"tag\"] = \"yuqing\" if df_host_url == \"URL\" else \"wenge\"\n",
    "        more_result.append(list_to_append.rename(index={\"查看原文\": \"URL\"}))\n",
    "\n",
    "return pd.DataFrame(same), pd.DataFrame(more_result)\n",
    "\n"
   ]
  }
 ],
 "metadata": {
  "kernelspec": {
   "display_name": "base",
   "language": "python",
   "name": "python3"
  },
  "language_info": {
   "codemirror_mode": {
    "name": "ipython",
    "version": 3
   },
   "file_extension": ".py",
   "mimetype": "text/x-python",
   "name": "python",
   "nbconvert_exporter": "python",
   "pygments_lexer": "ipython3",
   "version": "3.11.3"
  }
 },
 "nbformat": 4,
 "nbformat_minor": 2
}
