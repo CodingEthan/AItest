{
 "cells": [
  {
   "cell_type": "code",
   "execution_count": 6,
   "metadata": {},
   "outputs": [
    {
     "name": "stderr",
     "output_type": "stream",
     "text": [
      "d:\\App\\Anaconda\\Lib\\site-packages\\sklearn\\cluster\\_kmeans.py:870: FutureWarning: The default value of `n_init` will change from 10 to 'auto' in 1.4. Set the value of `n_init` explicitly to suppress the warning\n",
      "  warnings.warn(\n",
      "d:\\App\\Anaconda\\Lib\\site-packages\\sklearn\\cluster\\_kmeans.py:1382: UserWarning: KMeans is known to have a memory leak on Windows with MKL, when there are less chunks than available threads. You can avoid it by setting the environment variable OMP_NUM_THREADS=4.\n",
      "  warnings.warn(\n"
     ]
    }
   ],
   "source": [
    "# 导入sklearn库\n",
    "from sklearn.cluster import KMeans\n",
    "import pandas as pd\n",
    "# 定义一序列数据\n",
    "path = r\"C:\\Users\\WYJ20\\OneDrive\\桌面\\分类.xlsx\"\n",
    "df = pd.read_excel(path)\n",
    "data = list(df['shuzhi'])\n",
    "# 将数据转换为二维数组\n",
    "data = [[x] for x in data]\n",
    "# 定义聚类个数\n",
    "k = 10\n",
    "# 创建KMeans对象\n",
    "kmeans = KMeans(n_clusters=k)\n",
    "# 对数据进行聚类\n",
    "kmeans.fit(data)\n",
    "# 输出聚类结果\n",
    "df0  = pd.DataFrame(list(kmeans.labels_))\n",
    "df0.to_excel(r\"C:\\Users\\WYJ20\\OneDrive\\桌面\\分类结果.xlsx\")"
   ]
  }
 ],
 "metadata": {
  "kernelspec": {
   "display_name": "base",
   "language": "python",
   "name": "python3"
  },
  "language_info": {
   "codemirror_mode": {
    "name": "ipython",
    "version": 3
   },
   "file_extension": ".py",
   "mimetype": "text/x-python",
   "name": "python",
   "nbconvert_exporter": "python",
   "pygments_lexer": "ipython3",
   "version": "3.11.3"
  },
  "orig_nbformat": 4
 },
 "nbformat": 4,
 "nbformat_minor": 2
}
