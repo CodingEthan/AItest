{
 "cells": [
  {
   "cell_type": "code",
   "execution_count": null,
   "metadata": {},
   "outputs": [],
   "source": [
    "def main():\n",
    "    root_folder = r\"C:\\Users\\WYJ20\\OneDrive\\桌面\\wenge实习\\批量处理\\need_deal\"\n",
    "    result_folder = r\"C:\\Users\\WYJ20\\OneDrive\\桌面\\wenge实习\\批量处理\\results\"\n",
    "\n",
    "    for filepath, _, filenames in os.walk(root_folder):\n",
    "        filenames = [filename for filename in filenames if filename.startswith((\"wenge\", \"yuqing\"))]\n",
    "        list_path = [[None, None] for _ in range(len(filenames) // 2)]\n",
    "\n",
    "        for filename in filenames:\n",
    "            path = os.path.join(filepath, filename)\n",
    "            num = extract_numbers_from_filename(filename)\n",
    "            if num is not None:\n",
    "                list_path[num][0 if filename.startswith(\"wenge\") else 1] = path\n",
    "\n",
    "        for i, (wenge_path, yuqing_path) in enumerate(list_path):\n",
    "            df_wenge = pd.read_excel(wenge_path)\n",
    "            df_yuqing = pd.read_excel(yuqing_path)\n",
    "            \n",
    "            df_wenge = read_and_handle_dataframe(df_wenge, url_column=\"查看原文\")\n",
    "            df_yuqing = read_and_handle_dataframe(df_yuqing)\n",
    "\n",
    "            same, yuqing_more = compare_dataframes(df_yuqing, df_wenge, df_guest_url=\"查看原文\")\n",
    "            _, wenge_more = compare_dataframes(df_wenge, df_yuqing, df_host_url=\"查看原文\")\n",
    "\n",
    "            final_df = pd.concat([same, yuqing_more, wenge_more], axis=0)\n",
    "            result_path = os.path.join(result_folder, f\"result{i}.xlsx\")\n",
    "            final_df.to_excel(result_path, engine='openpyxl')"
   ]
  }
 ],
 "metadata": {
  "language_info": {
   "name": "python"
  },
  "orig_nbformat": 4
 },
 "nbformat": 4,
 "nbformat_minor": 2
}
