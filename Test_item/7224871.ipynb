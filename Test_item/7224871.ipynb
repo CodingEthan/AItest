{
 "cells": [
  {
   "cell_type": "markdown",
   "metadata": {
    "collapsed": false
   },
   "source": [
    "# 通过极简方案构建手写数字识别模型\n",
    "\n",
    "上一节介绍了创新性的“横纵式”教学法，有助于深度学习初学者快速掌握深度学习理论知识，并在过程中让读者获得真实建模的实战体验。在“横纵式”教学法中，纵向概要介绍模型的基本代码结构和极简实现方案，如 **图1** 所示。本节将使用这种极简实现方案快速完成手写数字识别的建模。\n",
    "\n",
    "<center><img src=\"https://ai-studio-static-online.cdn.bcebos.com/762c127363684c32832cb61b5d6deaa013023131a36948b6b695cec2df72f791\" width=\"1000\" hegiht=\"\" ></center>\n",
    "<center><br>图1：“横纵式”教学法—纵向极简实现方案</br></center>\n",
    "<br></br>\n",
    "\n",
    "### 前提条件\n",
    "\n",
    "在数据处理前，首先要加载飞桨平台与“手写数字识别”模型相关的类库，实现方法如下。"
   ]
  },
  {
   "cell_type": "code",
   "execution_count": 1,
   "metadata": {
    "collapsed": false
   },
   "outputs": [
    {
     "name": "stderr",
     "output_type": "stream",
     "text": [
      "/opt/conda/envs/python35-paddle120-env/lib/python3.7/site-packages/matplotlib/__init__.py:107: DeprecationWarning: Using or importing the ABCs from 'collections' instead of from 'collections.abc' is deprecated, and in 3.8 it will stop working\n",
      "  from collections import MutableMapping\n",
      "/opt/conda/envs/python35-paddle120-env/lib/python3.7/site-packages/matplotlib/rcsetup.py:20: DeprecationWarning: Using or importing the ABCs from 'collections' instead of from 'collections.abc' is deprecated, and in 3.8 it will stop working\n",
      "  from collections import Iterable, Mapping\n",
      "/opt/conda/envs/python35-paddle120-env/lib/python3.7/site-packages/matplotlib/colors.py:53: DeprecationWarning: Using or importing the ABCs from 'collections' instead of from 'collections.abc' is deprecated, and in 3.8 it will stop working\n",
      "  from collections import Sized\n"
     ]
    }
   ],
   "source": [
    "#加载飞桨和相关类库\r\n",
    "import paddle\r\n",
    "from paddle.nn import Linear\r\n",
    "import paddle.nn.functional as F\r\n",
    "import os\r\n",
    "import numpy as np\r\n",
    "import matplotlib.pyplot as plt"
   ]
  },
  {
   "cell_type": "markdown",
   "metadata": {
    "collapsed": false
   },
   "source": [
    "# 数据处理\n",
    "\n",
    "飞桨提供了多个封装好的数据集API，涵盖计算机视觉、自然语言处理、推荐系统等多个领域，帮助读者快速完成深度学习任务。如在手写数字识别任务中，通过[paddle.vision.datasets.MNIST](https://www.paddlepaddle.org.cn/documentation/docs/zh/api/paddle/vision/datasets/mnist/MNIST_cn.html)可以直接获取处理好的MNIST训练集、测试集，飞桨API支持如下常见的学术数据集：\n",
    "\n",
    "* mnist\n",
    "* cifar\n",
    "* Conll05\n",
    "* imdb\n",
    "* imikolov\n",
    "* movielens\n",
    "* sentiment\n",
    "* uci_housing\n",
    "* wmt14\n",
    "* wmt16\n",
    "\n",
    "通过paddle.vision.datasets.MNIST API设置数据读取器，代码如下所示。"
   ]
  },
  {
   "cell_type": "code",
   "execution_count": 2,
   "metadata": {
    "collapsed": false
   },
   "outputs": [
    {
     "name": "stderr",
     "output_type": "stream",
     "text": [
      "Cache file /home/aistudio/.cache/paddle/dataset/mnist/train-images-idx3-ubyte.gz not found, downloading https://dataset.bj.bcebos.com/mnist/train-images-idx3-ubyte.gz \n",
      "Begin to download\n",
      "\n",
      "Download finished\n",
      "Cache file /home/aistudio/.cache/paddle/dataset/mnist/train-labels-idx1-ubyte.gz not found, downloading https://dataset.bj.bcebos.com/mnist/train-labels-idx1-ubyte.gz \n",
      "Begin to download\n",
      "........\n",
      "Download finished\n"
     ]
    }
   ],
   "source": [
    "# 设置数据读取器，API自动读取MNIST数据训练集\n",
    "train_dataset = paddle.vision.datasets.MNIST(mode='train')"
   ]
  },
  {
   "cell_type": "markdown",
   "metadata": {
    "collapsed": false
   },
   "source": [
    " 通过如下代码读取任意一个数据内容，观察打印结果。"
   ]
  },
  {
   "cell_type": "code",
   "execution_count": 3,
   "metadata": {
    "collapsed": false
   },
   "outputs": [
    {
     "name": "stderr",
     "output_type": "stream",
     "text": [
      "/opt/conda/envs/python35-paddle120-env/lib/python3.7/site-packages/matplotlib/cbook/__init__.py:2349: DeprecationWarning: Using or importing the ABCs from 'collections' instead of from 'collections.abc' is deprecated, and in 3.8 it will stop working\n",
      "  if isinstance(obj, collections.Iterator):\n",
      "/opt/conda/envs/python35-paddle120-env/lib/python3.7/site-packages/matplotlib/cbook/__init__.py:2366: DeprecationWarning: Using or importing the ABCs from 'collections' instead of from 'collections.abc' is deprecated, and in 3.8 it will stop working\n",
      "  return list(data) if isinstance(data, collections.MappingView) else data\n",
      "/opt/conda/envs/python35-paddle120-env/lib/python3.7/site-packages/matplotlib/image.py:425: DeprecationWarning: np.asscalar(a) is deprecated since NumPy v1.16, use a.item() instead\n",
      "  a_min = np.asscalar(a_min.astype(scaled_dtype))\n",
      "/opt/conda/envs/python35-paddle120-env/lib/python3.7/site-packages/matplotlib/image.py:426: DeprecationWarning: np.asscalar(a) is deprecated since NumPy v1.16, use a.item() instead\n",
      "  a_max = np.asscalar(a_max.astype(scaled_dtype))\n"
     ]
    },
    {
     "data": {
      "text/plain": [
       "<Figure size 432x288 with 0 Axes>"
      ]
     },
     "metadata": {},
     "output_type": "display_data"
    },
    {
     "data": {
      "image/png": "[encoded data removed]",
      "text/plain": [
       "<Figure size 144x144 with 1 Axes>"
      ]
     },
     "metadata": {},
     "output_type": "display_data"
    },
    {
     "name": "stdout",
     "output_type": "stream",
     "text": [
      "图像数据形状和对应数据为: (28, 28)\n",
      "图像标签形状和对应数据为: (1,) [5]\n",
      "\n",
      "打印第一个batch的第一个图像，对应标签数字为[5]\n"
     ]
    }
   ],
   "source": [
    "train_data0 = np.array(train_dataset[0][0])\r\n",
    "train_label_0 = np.array(train_dataset[0][1])\r\n",
    "\r\n",
    "# 显示第一batch的第一个图像\r\n",
    "import matplotlib.pyplot as plt\r\n",
    "plt.figure(\"Image\") # 图像窗口名称\r\n",
    "plt.figure(figsize=(2,2))\r\n",
    "plt.imshow(train_data0, cmap=plt.cm.binary)\r\n",
    "plt.axis('on') # 关掉坐标轴为 off\r\n",
    "plt.title('image') # 图像题目\r\n",
    "plt.show()\r\n",
    "\r\n",
    "print(\"图像数据形状和对应数据为:\", train_data0.shape)\r\n",
    "print(\"图像标签形状和对应数据为:\", train_label_0.shape, train_label_0)\r\n",
    "print(\"\\n打印第一个batch的第一个图像，对应标签数字为{}\".format(train_label_0))"
   ]
  },
  {
   "cell_type": "markdown",
   "metadata": {
    "collapsed": false
   },
   "source": [
    "使用matplotlib工具包将其显示出来，如**图2** 所示。可以看到图片显示的数字是5，和对应标签数字一致。\n",
    "\n",
    "<center><img src=\"https://ai-studio-static-online.cdn.bcebos.com/a07d9b3b5839434e98afe05a298d3ce1c9b6cbc02124488a9bd8b7c2efeb42c4\" width=\"300\" hegiht=\"\" ></center>\n",
    "<center><br>图2：matplotlib打印结果示意图</br></center>\n",
    "<br></br>\n",
    "\n",
    "------\n",
    "**说明：**\n",
    "\n",
    "飞桨将维度是28×28的手写数字图像转成向量形式存储，因此使用飞桨数据加载器读取到的手写数字图像是长度为784（28×28）的向量。\n",
    "\n",
    "------"
   ]
  },
  {
   "cell_type": "markdown",
   "metadata": {
    "collapsed": false
   },
   "source": [
    "## 飞桨API的使用方法\n",
    "\n",
    "熟练掌握飞桨API的使用方法，是使用飞桨完成各类深度学习任务的基础，也是开发者必须掌握的技能。\n",
    "\n",
    "**飞桨API文档获取方式及目录结构**\n",
    "\n",
    "登录“[飞桨官网->文档->API文档](https://www.paddlepaddle.org.cn/documentation/docs/zh/2.0-rc1/api/index_cn.html)”，可以获取飞桨API文档。在飞桨最新的版本中，对API做了许多优化，目录结构与说明，如 **图3** 所示。\n",
    "\n",
    "<center><img src=\"https://ai-studio-static-online.cdn.bcebos.com/316984568d8e4e189fe3449108fa1d76a7d82330834f41139f2aaba8f745d49a\" width=\"900\" hegiht=\"\" ></center>\n",
    "<center><br>图3：飞桨API文档目录</br></center>\n",
    "<br></br>\n",
    "\n",
    "**API文档使用方法**\n",
    "\n",
    "飞桨每个API的文档结构一致，包含接口形式、功能说明和计算公式、参数和返回值、代码示例四个部分。 以Relu函数为例，API文档结构如 **图5** 所示。通过飞桨API文档，读者不仅可以详细查看函数功能，还可以通过可运行的代码示例来实践API的使用。\n",
    "\n",
    "<center><img src=\"https://ai-studio-static-online.cdn.bcebos.com/badc3b56be924955b97cc30d253eb4c850582d8e94004d5c876cf17eac8aee15\" width=\"700\" hegiht=\"\" ></center>\n",
    "<center><br>图5：Relu的API文档</br></center>\n",
    "<br></br>"
   ]
  },
  {
   "cell_type": "markdown",
   "metadata": {
    "collapsed": false
   },
   "source": [
    "# 模型设计\n",
    "\n",
    "在房价预测深度学习任务中，我们使用了单层且没有非线性变换的模型，取得了理想的预测效果。在手写数字识别中，我们依然使用这个模型预测输入的图形数字值。其中，模型的输入为784维（28×28）数据，输出为1维数据，如 **图6** 所示。\n",
    "\n",
    "<center><img src=\"https://ai-studio-static-online.cdn.bcebos.com/9c146e7d9c4a4119a8cd09f7c8b5ee61f2ac1820a221429a80430291728b9c4a\" width=\"400\" hegiht=\"\" ></center>\n",
    "<center><br>图6：手写数字识别网络模型</br></center>\n",
    "<br></br>\n",
    "\n",
    "输入像素的位置排布信息对理解图像内容非常重要（如将原始尺寸为28×28图像的像素按照7×112的尺寸排布，那么其中的数字将不可识别），因此网络的输入设计为28×28的尺寸，而不是1×784，以便于模型能够正确处理像素之间的空间信息。\n",
    "\n",
    "------\n",
    "**说明：**\n",
    "\n",
    "事实上，采用只有一层的简单网络（对输入求加权和）时并没有处理位置关系信息，因此可以猜测出此模型的预测效果可能有限。在后续优化环节介绍的卷积神经网络则更好的考虑了这种位置关系信息，模型的预测效果也会有显著提升。\n",
    "\n",
    "------\n",
    "\n",
    "下面以类的方式组建手写数字识别的网络，实现方法如下所示。"
   ]
  },
  {
   "cell_type": "code",
   "execution_count": 4,
   "metadata": {
    "collapsed": false
   },
   "outputs": [],
   "source": [
    "# 定义mnist数据识别网络结构，同房价预测网络\n",
    "class MNIST(paddle.nn.Layer):\n",
    "    def __init__(self):\n",
    "        super(MNIST, self).__init__()\n",
    "        \n",
    "        # 定义一层全连接层，输出维度是1\n",
    "        self.fc = paddle.nn.Linear(in_features=784, out_features=1)\n",
    "        \n",
    "    # 定义网络结构的前向计算过程\n",
    "    def forward(self, inputs):\n",
    "        outputs = self.fc(inputs)\n",
    "        return outputs"
   ]
  },
  {
   "cell_type": "markdown",
   "metadata": {
    "collapsed": false
   },
   "source": [
    "# 训练配置\n",
    "\n",
    "训练配置需要先生成模型实例（设为“训练”状态），再设置优化算法和学习率（使用随机梯度下降SGD，学习率设置为0.001），实现方法如下所示。"
   ]
  },
  {
   "cell_type": "code",
   "execution_count": 5,
   "metadata": {
    "collapsed": false
   },
   "outputs": [],
   "source": [
    "# 声明网络结构\r\n",
    "model = MNIST()\r\n",
    "\r\n",
    "def train(model):\r\n",
    "    # 启动训练模式\r\n",
    "    model.train()\r\n",
    "    # 加载训练集 batch_size 设为 16\r\n",
    "    train_loader = paddle.io.DataLoader(paddle.vision.datasets.MNIST(mode='train'), \r\n",
    "                                        batch_size=16, \r\n",
    "                                        shuffle=True)\r\n",
    "    # 定义优化器，使用随机梯度下降SGD优化器，学习率设置为0.001\r\n",
    "    opt = paddle.optimizer.SGD(learning_rate=0.001, parameters=model.parameters())"
   ]
  },
  {
   "cell_type": "markdown",
   "metadata": {
    "collapsed": false
   },
   "source": [
    "# 训练过程\n",
    "\n",
    "训练过程采用二层循环嵌套方式，训练完成后需要保存模型参数，以便后续使用。\n",
    "\n",
    "- 内层循环：负责整个数据集的一次遍历，遍历数据集采用分批次（batch）方式。\n",
    "- 外层循环：定义遍历数据集的次数，本次训练中外层循环10次，通过参数EPOCH_NUM设置。"
   ]
  },
  {
   "cell_type": "code",
   "execution_count": 6,
   "metadata": {
    "collapsed": false
   },
   "outputs": [],
   "source": [
    "# 图像归一化函数，将数据范围为[0, 255]的图像归一化到[0, 1]\n",
    "def norm_img(img):\n",
    "    # 验证传入数据格式是否正确，img的shape为[batch_size, 28, 28]\n",
    "    assert len(img.shape) == 3\n",
    "    batch_size, img_h, img_w = img.shape[0], img.shape[1], img.shape[2]\n",
    "    # 归一化图像数据\n",
    "    img = img / 255\n",
    "    # 将图像形式reshape为[batch_size, 784]\n",
    "    img = paddle.reshape(img, [batch_size, img_h*img_w])\n",
    "    \n",
    "    return img"
   ]
  },
  {
   "cell_type": "code",
   "execution_count": 7,
   "metadata": {
    "collapsed": false
   },
   "outputs": [
    {
     "name": "stdout",
     "output_type": "stream",
     "text": [
      "epoch_id: 0, batch_id: 0, loss is: [27.945683]\n",
      "epoch_id: 0, batch_id: 1000, loss is: [3.7838397]\n",
      "epoch_id: 0, batch_id: 2000, loss is: [2.3778758]\n",
      "epoch_id: 0, batch_id: 3000, loss is: [5.195468]\n",
      "epoch_id: 1, batch_id: 0, loss is: [3.5614734]\n",
      "epoch_id: 1, batch_id: 1000, loss is: [2.6796262]\n",
      "epoch_id: 1, batch_id: 2000, loss is: [2.1496828]\n",
      "epoch_id: 1, batch_id: 3000, loss is: [4.1330214]\n",
      "epoch_id: 2, batch_id: 0, loss is: [1.7199714]\n",
      "epoch_id: 2, batch_id: 1000, loss is: [2.0260792]\n",
      "epoch_id: 2, batch_id: 2000, loss is: [3.0484776]\n",
      "epoch_id: 2, batch_id: 3000, loss is: [2.2832904]\n",
      "epoch_id: 3, batch_id: 0, loss is: [4.2092824]\n",
      "epoch_id: 3, batch_id: 1000, loss is: [2.0880175]\n",
      "epoch_id: 3, batch_id: 2000, loss is: [2.827693]\n",
      "epoch_id: 3, batch_id: 3000, loss is: [4.1535063]\n",
      "epoch_id: 4, batch_id: 0, loss is: [1.8874705]\n",
      "epoch_id: 4, batch_id: 1000, loss is: [4.2473226]\n",
      "epoch_id: 4, batch_id: 2000, loss is: [4.7057443]\n",
      "epoch_id: 4, batch_id: 3000, loss is: [5.2473507]\n",
      "epoch_id: 5, batch_id: 0, loss is: [1.5415926]\n",
      "epoch_id: 5, batch_id: 1000, loss is: [1.3455296]\n",
      "epoch_id: 5, batch_id: 2000, loss is: [2.9697008]\n",
      "epoch_id: 5, batch_id: 3000, loss is: [3.0029511]\n",
      "epoch_id: 6, batch_id: 0, loss is: [1.8067405]\n",
      "epoch_id: 6, batch_id: 1000, loss is: [3.1221147]\n",
      "epoch_id: 6, batch_id: 2000, loss is: [1.8602986]\n",
      "epoch_id: 6, batch_id: 3000, loss is: [3.5019293]\n",
      "epoch_id: 7, batch_id: 0, loss is: [4.501994]\n",
      "epoch_id: 7, batch_id: 1000, loss is: [2.3224487]\n",
      "epoch_id: 7, batch_id: 2000, loss is: [3.823417]\n",
      "epoch_id: 7, batch_id: 3000, loss is: [4.961644]\n",
      "epoch_id: 8, batch_id: 0, loss is: [2.3234854]\n",
      "epoch_id: 8, batch_id: 1000, loss is: [1.9189851]\n",
      "epoch_id: 8, batch_id: 2000, loss is: [2.8823922]\n",
      "epoch_id: 8, batch_id: 3000, loss is: [3.5759134]\n",
      "epoch_id: 9, batch_id: 0, loss is: [4.4736614]\n",
      "epoch_id: 9, batch_id: 1000, loss is: [2.51793]\n",
      "epoch_id: 9, batch_id: 2000, loss is: [2.808481]\n",
      "epoch_id: 9, batch_id: 3000, loss is: [2.3134003]\n"
     ]
    }
   ],
   "source": [
    "import paddle\n",
    "# 确保从paddle.vision.datasets.MNIST中加载的图像数据是np.ndarray类型\n",
    "paddle.vision.set_image_backend('cv2')\n",
    "\n",
    "# 声明网络结构\n",
    "model = MNIST()\n",
    "\n",
    "def train(model):\n",
    "    # 启动训练模式\n",
    "    model.train()\n",
    "    # 加载训练集 batch_size 设为 16\n",
    "    train_loader = paddle.io.DataLoader(paddle.vision.datasets.MNIST(mode='train'), \n",
    "                                        batch_size=16, \n",
    "                                        shuffle=True)\n",
    "    # 定义优化器，使用随机梯度下降SGD优化器，学习率设置为0.001\n",
    "    opt = paddle.optimizer.SGD(learning_rate=0.001, parameters=model.parameters())\n",
    "    EPOCH_NUM = 10\n",
    "    for epoch in range(EPOCH_NUM):\n",
    "        for batch_id, data in enumerate(train_loader()):\n",
    "            images = norm_img(data[0]).astype('float32')\n",
    "            labels = data[1].astype('float32')\n",
    "            \n",
    "            #前向计算的过程\n",
    "            predicts = model(images)\n",
    "            \n",
    "            # 计算损失\n",
    "            loss = F.square_error_cost(predicts, labels)\n",
    "            avg_loss = paddle.mean(loss)\n",
    "            \n",
    "            #每训练了1000批次的数据，打印下当前Loss的情况\n",
    "            if batch_id % 1000 == 0:\n",
    "                print(\"epoch_id: {}, batch_id: {}, loss is: {}\".format(epoch, batch_id, avg_loss.numpy()))\n",
    "            \n",
    "            #后向传播，更新参数的过程\n",
    "            avg_loss.backward()\n",
    "            opt.step()\n",
    "            opt.clear_grad()\n",
    "            \n",
    "train(model)\n",
    "paddle.save(model.state_dict(), './mnist.pdparams')"
   ]
  },
  {
   "cell_type": "markdown",
   "metadata": {
    "collapsed": false
   },
   "source": [
    "另外，从训练过程中损失所发生的变化可以发现，虽然损失整体上在降低，但到训练的最后一轮，损失函数值依然较高。可以猜测手写数字识别完全复用房价预测的代码，训练效果并不好。接下来我们通过模型测试，获取模型训练的真实效果。\n",
    "\n",
    "# 模型测试\n",
    "\n",
    "模型测试的主要目的是验证训练好的模型是否能正确识别出数字，包括如下四步：\n",
    "\n",
    "* 声明实例\n",
    "* 加载模型：加载训练过程中保存的模型参数，\n",
    "* 灌入数据：将测试样本传入模型，模型的状态设置为校验状态（eval），显式告诉框架我们接下来只会使用前向计算的流程，不会计算梯度和梯度反向传播。\n",
    "* 获取预测结果，取整后作为预测标签输出。\n",
    "\n",
    "在模型测试之前，需要先从'./work/example_0.png'文件中读取样例图片，并进行归一化处理。"
   ]
  },
  {
   "cell_type": "code",
   "execution_count": 8,
   "metadata": {
    "collapsed": false
   },
   "outputs": [
    {
     "data": {
      "image/png": "[encoded data removed]",
      "text/plain": [
       "<Figure size 432x288 with 1 Axes>"
      ]
     },
     "metadata": {},
     "output_type": "display_data"
    },
    {
     "name": "stdout",
     "output_type": "stream",
     "text": [
      "原始图像shape:  (28, 28)\n"
     ]
    },
    {
     "data": {
      "image/png": "[encoded data removed]",
      "text/plain": [
       "<Figure size 432x288 with 1 Axes>"
      ]
     },
     "metadata": {},
     "output_type": "display_data"
    },
    {
     "name": "stdout",
     "output_type": "stream",
     "text": [
      "采样后图片shape:  (28, 28)\n"
     ]
    }
   ],
   "source": [
    "# 导入图像读取第三方库\n",
    "import matplotlib.pyplot as plt\n",
    "import numpy as np\n",
    "from PIL import Image\n",
    "\n",
    "img_path = './work/example_0.jpg'\n",
    "# 读取原始图像并显示\n",
    "im = Image.open('./work/example_0.jpg')\n",
    "plt.imshow(im)\n",
    "plt.show()\n",
    "# 将原始图像转为灰度图\n",
    "im = im.convert('L')\n",
    "print('原始图像shape: ', np.array(im).shape)\n",
    "# 使用Image.ANTIALIAS方式采样原始图片\n",
    "im = im.resize((28, 28), Image.ANTIALIAS)\n",
    "plt.imshow(im)\n",
    "plt.show()\n",
    "print(\"采样后图片shape: \", np.array(im).shape)"
   ]
  },
  {
   "cell_type": "code",
   "execution_count": 9,
   "metadata": {
    "collapsed": false
   },
   "outputs": [
    {
     "name": "stdout",
     "output_type": "stream",
     "text": [
      "result Tensor(shape=[1, 1], dtype=float32, place=CUDAPlace(0), stop_gradient=False,\n",
      "       [[1.05537450]])\n",
      "本次预测的数字是 [[1]]\n"
     ]
    }
   ],
   "source": [
    "# 读取一张本地的样例图片，转变成模型输入的格式\r\n",
    "def load_image(img_path):\r\n",
    "    # 从img_path中读取图像，并转为灰度图\r\n",
    "    im = Image.open(img_path).convert('L')\r\n",
    "    # print(np.array(im))\r\n",
    "    im = im.resize((28, 28), Image.ANTIALIAS)\r\n",
    "    im = np.array(im).reshape(1, -1).astype(np.float32)\r\n",
    "    # 图像归一化，保持和数据集的数据范围一致\r\n",
    "    im = 1 - im / 255\r\n",
    "    return im\r\n",
    "\r\n",
    "# 定义预测过程\r\n",
    "model = MNIST()\r\n",
    "params_file_path = 'mnist.pdparams'\r\n",
    "img_path = './work/example_0.jpg'\r\n",
    "# 加载模型参数\r\n",
    "param_dict = paddle.load(params_file_path)\r\n",
    "model.load_dict(param_dict)\r\n",
    "# 灌入数据\r\n",
    "model.eval()\r\n",
    "tensor_img = load_image(img_path)\r\n",
    "result = model(paddle.to_tensor(tensor_img))\r\n",
    "print('result',result)\r\n",
    "#  预测输出取整，即为预测的数字，打印结果\r\n",
    "print(\"本次预测的数字是\", result.numpy().astype('int32'))"
   ]
  },
  {
   "cell_type": "markdown",
   "metadata": {
    "collapsed": false
   },
   "source": [
    "从打印结果来看，模型预测出的数字是与实际输出的图片的数字不一致。这里只是验证了一个样本的情况，如果我们尝试更多的样本，可发现许多数字图片识别结果是错误的。因此完全复用房价预测的实验并不适用于手写数字识别任务！\n",
    "\n",
    "接下来我们会对手写数字识别实验模型进行逐一改进，直到获得令人满意的结果。"
   ]
  },
  {
   "cell_type": "markdown",
   "metadata": {
    "collapsed": false
   },
   "source": [
    "## 作业：\n",
    "\n",
    "1. 使用飞桨API [paddle.vision.datasets.MNIST](https://www.paddlepaddle.org.cn/documentation/docs/zh/api/paddle/vision/datasets/mnist/MNIST_cn.html)的mode函数获得测试集数据，计算当前模型的准确率。\n",
    "\n",
    "2. 怎样进一步提高模型的准确率？可以在接下来内容开始前，写出你想到的优化思路。"
   ]
  }
 ],
 "metadata": {
  "kernelspec": {
   "display_name": "PaddlePaddle 2.1.2 (Python 3.5)",
   "language": "python",
   "name": "py35-paddle1.2.0"
  },
  "language_info": {
   "codemirror_mode": {
    "name": "ipython",
    "version": 3
   },
   "file_extension": ".py",
   "mimetype": "text/x-python",
   "name": "python",
   "nbconvert_exporter": "python",
   "pygments_lexer": "ipython3",
   "version": "3.7.4"
  }
 },
 "nbformat": 4,
 "nbformat_minor": 1
}
