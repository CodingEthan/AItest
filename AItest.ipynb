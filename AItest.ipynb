{
 "cells": [
  {
   "cell_type": "markdown",
   "metadata": {},
   "source": [
    "# 雅意大模型API"
   ]
  },
  {
   "cell_type": "markdown",
   "metadata": {},
   "source": [
    "## 逐步处理"
   ]
  },
  {
   "cell_type": "code",
   "execution_count": 56,
   "metadata": {},
   "outputs": [],
   "source": [
    "# 导入requests库\n",
    "import requests\n",
    "# 导入email库中的formatdate函数\n",
    "from email.utils import formatdate\n",
    "# 导入time模块\n",
    "import time\n",
    "# 导入uuid模块\n",
    "import uuid\n",
    "# 导入hmac和hashlib模块\n",
    "import hmac\n",
    "import hashlib\n",
    "# 导入base64模块\n",
    "import base64\n",
    "\n",
    "\n",
    "# 定义请求的url和参数\n",
    "url = \"https://api.tilake.wenge.com/http2test/test\"\n",
    "params = {\"param1\": \"test\"}\n",
    "\n",
    "# 获取当前时间的时间戳，单位为毫秒\n",
    "timestamp = str(int(time.time() * 1000))\n",
    "\n",
    "date0 = formatdate(usegmt=True)\n",
    "# 生成一个随机的uuid对象\n",
    "random_uuid = str(uuid.uuid4())\n",
    "\n",
    "HTTPMethod = \"POST\"\n",
    "Accept = \"application/json; charset=utf-8\"\n",
    "Content_Type = \"application/json; charset=utf-8\"\n",
    "Date = date0\n",
    "path = \"/503295a559ae022610935e1e52ee10b5/generate\"\n",
    "\n",
    "# 拼接字符串\n",
    "string_to_sign = HTTPMethod + \"\\n\" + Accept + \"\\n\" + Content_Type + \"\\n\" + Date + \"\\n\" + path\n",
    "\n",
    "# 生成签名\n",
    "appSecret = \"0174c4f4fade43e89e9490fbb16dcf86\"\n",
    "\n",
    "# 获取HmacSHA256实例\n",
    "hmacSha256 = hmac.new(appSecret.encode(\"utf-8\"), digestmod=hashlib.sha256)\n",
    "\n",
    "# 对stringToSign进行HmacSHA256加密，使用update方法更新HMAC对象\n",
    "hmacSha256.update(string_to_sign.encode(\"utf-8\"))\n",
    "\n",
    "# 获取HMAC对象的字节数组结果，使用digest方法\n",
    "md5Result = hmacSha256.digest()\n",
    "\n",
    "# 将字节数组结果转换为Base64编码的字符串\n",
    "signature = base64.b64encode(md5Result).decode(\"utf-8\")\n",
    "\n",
    "\n"
   ]
  },
  {
   "cell_type": "code",
   "execution_count": 57,
   "metadata": {},
   "outputs": [],
   "source": [
    "\n",
    "# 定义请求的headers\n",
    "headers = {\n",
    "    # 设置接受的内容类型为json\n",
    "    \"accept\": \"application/json; charset=utf-8\",\n",
    "    # 设置发送的内容类型为表单\n",
    "    \"content-type\": \"application/json; charset=utf-8\",\n",
    "    # 设置鉴权参数x-tilake-ca-timestamp，值为当前时间的毫秒数\n",
    "    \"x-tilake-ca-timestamp\": timestamp,\n",
    "    # 设置鉴权参数date，值为当前时间的标准格式\n",
    "    \"date\": Date,\n",
    "    # 设置鉴权参数x-tilake-ca-nonce，值建议为uuid\n",
    "    \"x-tilake-ca-nonce\": random_uuid,\n",
    "    # 设置鉴权参数x-tilake-app-key，需要在百度智能云千帆大模型平台申请\n",
    "    \"x-tilake-app-key\": \"7f9584b52d2d4d9aa1e1d46c5c039311\",\n",
    "    # 设置鉴权参数x-tilake-ca-signature-method，取值HmacSHA256或者HmacSHA1\n",
    "    \"x-tilake-ca-signature-method\": \"HmacSHA256\",\n",
    "    # 设置鉴权参数x-tilake-ca-signature，值为根据签名算法和app_secret对待签字符串进行加密和编码后的结果\n",
    "    \"x-tilake-ca-signature\": signature\n",
    "}\n",
    "\n"
   ]
  },
  {
   "cell_type": "code",
   "execution_count": 58,
   "metadata": {},
   "outputs": [
    {
     "name": "stdout",
     "output_type": "stream",
     "text": [
      "{\"id\":\"1D7C5A69-100E-1510-BA95\",\"code\":\"200\",\"data\":{\"choices\":[{\"message\":{\"content\":\"你好，我是一个人工智能助手，我的名字是雅意(YaYi)。\",\"role\":\"yayi\",\"type\":\"finish\"},\"finish_reason\":\"stop\",\"index\":0}],\"usage\":{\"prompt_tokens\":57,\"completion_tokens\":20,\"total_tokens\":77}},\"msg\":\"success\",\"time\":0.766}\n"
     ]
    }
   ],
   "source": [
    "# 导入requests库\n",
    "import requests\n",
    "\n",
    "# 定义请求的url和headers\n",
    "url = \"https://tilake.wenge.com/saas-gateway/503295a559ae022610935e1e52ee10b5/generate\"\n",
    "# 定义请求的参数\n",
    "params = {\n",
    "    \"id\": \"1D7C5A69-100E-1510-BA95\",\n",
    "    \"messages\": [\n",
    "        {\"role\": \"user\", \"content\": \"你好，你叫什么名字？\"}\n",
    "    ],\n",
    "    \"temperature\": 0.3,\n",
    "    \"presence_penalty\": 0.0,\n",
    "    \"frequency_penalty\": 0.0,\n",
    "    \"max_new_tokens\": 256,\n",
    "    \"stream\": False\n",
    "}\n",
    "\n",
    "# 发送post请求，并获取响应\n",
    "response = requests.post(url, headers=headers, json=params)\n",
    "\n",
    "# 打印响应的内容\n",
    "print(response.text)"
   ]
  },
  {
   "cell_type": "markdown",
   "metadata": {},
   "source": [
    "## YAYI-13B"
   ]
  },
  {
   "cell_type": "code",
   "execution_count": 3,
   "metadata": {},
   "outputs": [
    {
     "name": "stdout",
     "output_type": "stream",
     "text": [
      "{\"id\":\"4e2d4d9e-ccb2-476b-9123-ec2865b8eb8a\",\"code\":\"200\",\"data\":{\"choices\":[{\"message\":{\"content\":\"雅意模型是由中科闻歌训练的人工智能大模型，英文名为“YaYi”。雅意模型的出生地在中国的北京，由中科闻歌的科学家们经过多年的研发和训练，最终成功诞生。\",\"role\":\"yayi\",\"type\":\"finish\"},\"finish_reason\":\"stop\",\"index\":0}],\"usage\":{\"prompt_tokens\":31,\"completion_tokens\":48,\"total_tokens\":79}},\"msg\":\"success\",\"time\":1.003}\n"
     ]
    }
   ],
   "source": [
    "# 导入requests库\n",
    "import requests\n",
    "# 导入email库中的formatdate函数\n",
    "from email.utils import formatdate\n",
    "# 导入time模块\n",
    "import time\n",
    "# 导入uuid模块\n",
    "import uuid\n",
    "# 导入hmac和hashlib模块\n",
    "import hmac\n",
    "import hashlib\n",
    "# 导入hmac和hashlib模块\n",
    "import hmac\n",
    "import hashlib\n",
    "\n",
    "# 导入base64模块\n",
    "import base64\n",
    "\n",
    "# 获取当前时间的时间戳，单位为毫秒\n",
    "timestamp = str(int(time.time() * 1000))\n",
    "\n",
    "date0 = formatdate(usegmt=True)\n",
    "# 生成一个随机的uuid对象\n",
    "random_uuid = str(uuid.uuid4())\n",
    "\n",
    "HTTPMethod = \"POST\"\n",
    "Accept = \"application/json; charset=utf-8\"\n",
    "Content_Type = \"application/json; charset=utf-8\"\n",
    "Date = date0\n",
    "path = \"/238b7e0a4459ce5dc4e8b0a79bbaf719/generate\"\n",
    "\n",
    "# 拼接字符串\n",
    "string_to_sign = HTTPMethod + \"\\n\" + Accept + \"\\n\" + Content_Type + \"\\n\" + Date + \"\\n\" + path\n",
    "\n",
    "# 生成签名\n",
    "appSecret = \"0174c4f4fade43e89e9490fbb16dcf86\"\n",
    "\n",
    "# 获取HmacSHA256实例\n",
    "hmacSha256 = hmac.new(appSecret.encode(\"utf-8\"), digestmod=hashlib.sha256)\n",
    "\n",
    "# 对stringToSign进行HmacSHA256加密，使用update方法更新HMAC对象\n",
    "hmacSha256.update(string_to_sign.encode(\"utf-8\"))\n",
    "\n",
    "# 获取HMAC对象的字节数组结果，使用digest方法\n",
    "md5Result = hmacSha256.digest()\n",
    "\n",
    "# 将字节数组结果转换为Base64编码的字符串\n",
    "signature = base64.b64encode(md5Result).decode(\"utf-8\")\n",
    "\n",
    "\n",
    "\n",
    "# 定义请求的headers\n",
    "headers = {\n",
    "    # 设置接受的内容类型为json\n",
    "    \"accept\": \"application/json; charset=utf-8\",\n",
    "    # 设置发送的内容类型为表单\n",
    "    \"content-type\": \"application/json; charset=utf-8\",\n",
    "    # 设置鉴权参数x-tilake-ca-timestamp，值为当前时间的毫秒数\n",
    "    \"x-tilake-ca-timestamp\": timestamp,\n",
    "    # 设置鉴权参数date，值为当前时间的标准格式\n",
    "    \"date\": Date,\n",
    "    # 设置鉴权参数x-tilake-ca-nonce，值建议为uuid\n",
    "    \"x-tilake-ca-nonce\": random_uuid,\n",
    "    # 设置鉴权参数x-tilake-app-key，需要在百度智能云千帆大模型平台申请\n",
    "    \"x-tilake-app-key\": \"7f9584b52d2d4d9aa1e1d46c5c039311\",\n",
    "    # 设置鉴权参数x-tilake-ca-signature-method，取值HmacSHA256或者HmacSHA1\n",
    "    \"x-tilake-ca-signature-method\": \"HmacSHA256\",\n",
    "    # 设置鉴权参数x-tilake-ca-signature，值为根据签名算法和app_secret对待签字符串进行加密和编码后的结果\n",
    "    \"x-tilake-ca-signature\": signature\n",
    "}\n",
    "\n",
    "\n",
    "\n",
    "# 导入requests库\n",
    "import requests\n",
    "\n",
    "# 定义请求的url和headers\n",
    "url = \"https://tilake.wenge.com/saas-gateway/238b7e0a4459ce5dc4e8b0a79bbaf719/generate\"\n",
    "# 定义请求的参数\n",
    "params = {\n",
    "    \"id\": \"4e2d4d9e-ccb2-476b-9123-ec2865b8eb8a\",\n",
    "    \"model\": \"yayi\",\n",
    "    \"messages\": [\n",
    "        {\n",
    "            \"role\": \"user\",\n",
    "            \"content\": \"你出生在哪里？\"\n",
    "        }\n",
    "    ],\n",
    "    \"max_new_tokens\": 256,\n",
    "    \"temperature\": 0.4,\n",
    "    \"stream\": False,\n",
    "    \"do_sample\": True,\n",
    "    \"best_of\": 1,\n",
    "    \"n\": 1\n",
    "}\n",
    "\n",
    "# 发送post请求，并获取响应\n",
    "response = requests.post(url, headers=headers, json=params)\n",
    "\n",
    "# 打印响应的内容\n",
    "print(response.text)"
   ]
  },
  {
   "cell_type": "markdown",
   "metadata": {},
   "source": [
    "## YAYI-13B V2"
   ]
  },
  {
   "cell_type": "code",
   "execution_count": 4,
   "metadata": {},
   "outputs": [
    {
     "data": {
      "text/plain": [
       "'{\"id\":\"4e2d4d9e-ccb2-476b-9123-ec2865b8eb8a\",\"code\":\"200\",\"data\":{\"choices\":[{\"message\":{\"content\":\"雅意，英文名“YaYi”，是中科闻歌训练的人工智能大模型。\",\"role\":\"yayi\",\"type\":\"finish\"},\"finish_reason\":\"stop\",\"index\":0}],\"usage\":{\"prompt_tokens\":29,\"completion_tokens\":23,\"total_tokens\":52}},\"msg\":\"success\",\"time\":0.49}'"
      ]
     },
     "execution_count": 4,
     "metadata": {},
     "output_type": "execute_result"
    }
   ],
   "source": [
    "import requests\n",
    "from email.utils import formatdate\n",
    "import time\n",
    "import uuid\n",
    "import hmac\n",
    "import hashlib\n",
    "import base64\n",
    "\n",
    "# Generate a timestamp in milliseconds\n",
    "timestamp = str(int(time.time() * 1000))\n",
    "\n",
    "# Generate a random UUID\n",
    "random_uuid = str(uuid.uuid4())\n",
    "\n",
    "HTTPMethod = \"POST\"\n",
    "Accept = \"application/json; charset=utf-8\"\n",
    "Content_Type = \"application/json; charset=utf-8\"\n",
    "\n",
    "# Use formatdate directly\n",
    "Date = formatdate(usegmt=True)\n",
    "\n",
    "path = \"/238b7e0a4459ce5dc4e8b0a79bbaf719/generate\"\n",
    "string_to_sign = f\"{HTTPMethod}\\n{Accept}\\n{Content_Type}\\n{Date}\\n{path}\"\n",
    "\n",
    "appSecret = \"0174c4f4fade43e89e9490fbb16dcf86\"\n",
    "hmacSha256 = hmac.new(appSecret.encode(\"utf-8\"), digestmod=hashlib.sha256)\n",
    "hmacSha256.update(string_to_sign.encode(\"utf-8\"))\n",
    "md5Result = hmacSha256.digest()\n",
    "signature = base64.b64encode(md5Result).decode(\"utf-8\")\n",
    "\n",
    "headers = {\n",
    "    \"accept\": Accept,\n",
    "    \"content-type\": Content_Type,\n",
    "    \"x-tilake-ca-timestamp\": timestamp,\n",
    "    \"date\": Date,\n",
    "    \"x-tilake-ca-nonce\": random_uuid,\n",
    "    \"x-tilake-app-key\": \"7f9584b52d2d4d9aa1e1d46c5c039311\",\n",
    "    \"x-tilake-ca-signature-method\": \"HmacSHA256\",\n",
    "    \"x-tilake-ca-signature\": signature\n",
    "}\n",
    "\n",
    "url = \"https://tilake.wenge.com/saas-gateway/238b7e0a4459ce5dc4e8b0a79bbaf719/generate\"\n",
    "params = {\n",
    "    \"id\": \"4e2d4d9e-ccb2-476b-9123-ec2865b8eb8a\",\n",
    "    \"model\": \"yayi\",\n",
    "    \"messages\": [\n",
    "        {\n",
    "            \"role\": \"user\",\n",
    "            \"content\": \"我是谁\"\n",
    "        }\n",
    "    ],\n",
    "    \"max_new_tokens\": 256,\n",
    "    \"temperature\": 0.4,\n",
    "    \"stream\": False,\n",
    "    \"do_sample\": True,\n",
    "    \"best_of\": 1,\n",
    "    \"n\": 1\n",
    "}\n",
    "\n",
    "response = requests.post(url, headers=headers, json=params)\n",
    "\n",
    "response0 = response.text\n",
    "response0\n"
   ]
  },
  {
   "cell_type": "code",
   "execution_count": 2,
   "metadata": {},
   "outputs": [
    {
     "data": {
      "text/plain": [
       "'雅意（YaYi）是由中科闻歌训练的人工智能大模型，中文名为“雅意”，英文名为“YaYi”。'"
      ]
     },
     "execution_count": 2,
     "metadata": {},
     "output_type": "execute_result"
    }
   ],
   "source": [
    "import json\n",
    "\n",
    "response1 = json.loads(response0)\n",
    "response2 = response1['data']['choices'][0]['message'][\"content\"]\n",
    "response2"
   ]
  },
  {
   "cell_type": "markdown",
   "metadata": {},
   "source": [
    "## AI作画服务"
   ]
  },
  {
   "cell_type": "code",
   "execution_count": 7,
   "metadata": {},
   "outputs": [
    {
     "data": {
      "text/plain": [
       "'雅意大模型在多个领域展现出了强大的能力。在自然语言处理方面，雅意模型具备理解、生成和推理的能力，能够进行问答、对话、文本生成、文本摘要等任务。在知识图谱构建方面，雅意模型能够进行知识抽取、知识融合和知识推理，为智能问答、智能客服等应用提供支持。在机器翻译方面，雅意模型能够实现多语种翻译，支持中文与其他语言之间的互译。在情感分析、文本分类等领域，雅意模型也有出色的表现。总之，雅意模型在多个领域展现出了强大的能力，为人类提供了便捷的服务。'"
      ]
     },
     "execution_count": 7,
     "metadata": {},
     "output_type": "execute_result"
    }
   ],
   "source": []
  }
 ],
 "metadata": {
  "kernelspec": {
   "display_name": "base",
   "language": "python",
   "name": "python3"
  },
  "language_info": {
   "codemirror_mode": {
    "name": "ipython",
    "version": 3
   },
   "file_extension": ".py",
   "mimetype": "text/x-python",
   "name": "python",
   "nbconvert_exporter": "python",
   "pygments_lexer": "ipython3",
   "version": "3.11.3"
  }
 },
 "nbformat": 4,
 "nbformat_minor": 2
}
