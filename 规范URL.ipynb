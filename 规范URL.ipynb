{
 "cells": [
  {
   "cell_type": "code",
   "execution_count": null,
   "metadata": {},
   "outputs": [],
   "source": [
    "def deal_url(url,path):\n",
    "    import pandas as pd \n",
    "    from selenium import webdriver\n",
    "    from selenium.webdriver.chrome.options import Options\n",
    "\n",
    "    # 创建Chrome WebDriver实例并设置为无头模式\n",
    "    chrome_options = Options()\n",
    "    chrome_options.add_argument(\"--headless\")  # 启用无头模式\n",
    "    driver = webdriver.Chrome(options=chrome_options)  # 请确保已经安装了Chrome WebDriver，并提供正确的路径\n",
    "\n",
    "    df0 = pd.read_excel(path)\n",
    "    for i, row in df0.iterrows():\n",
    "        # 打开第一个URL\n",
    "        driver.get(row[url])\n",
    "        # 获取第一个URL导致的页面的源代码\n",
    "        new_url = driver.current_url\n",
    "        # 关闭WebDriver\n",
    "        driver.quit()\n",
    "        df0.at[i, url] = new_url\n",
    "    return df0\n",
    "\n",
    "import os\n",
    "\n",
    "current_directory = os.getcwd()\n",
    "for filepath,_,filenames in os.walk(current_directory):\n",
    "    for filename in filenames:\n",
    "        path = os.path.join(filepath,filename)\n",
    "        URL0 = filename.split('.')[0]\n",
    "        index0 = filename.split('.')[1]\n",
    "        format0 = filename.split('.')[-1]\n",
    "        if format0 == 'XLXS':\n",
    "            df1 = deal_url(URL0,path)\n",
    "            df1.to_excel(URL0 + index0 + '_new.xlsx',index=False)"
   ]
  }
 ],
 "metadata": {
  "language_info": {
   "name": "python"
  },
  "orig_nbformat": 4
 },
 "nbformat": 4,
 "nbformat_minor": 2
}
